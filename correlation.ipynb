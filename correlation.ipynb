{
 "cells": [
  {
   "cell_type": "code",
   "execution_count": 26,
   "metadata": {},
   "outputs": [],
   "source": [
    "# import libraries\n",
    "import pandas as pd\n",
    "import psycopg2\n",
    "import config\n",
    "import matplotlib.pyplot as plt"
   ]
  },
  {
   "cell_type": "code",
   "execution_count": 27,
   "metadata": {},
   "outputs": [],
   "source": [
    "# establish a connection to PostgreSQL database\n",
    "conn= psycopg2.connect(\n",
    "    host='localhost',\n",
    "    database='olympics',\n",
    "    user=config.Username,\n",
    "    password=config.Password\n",
    ")"
   ]
  },
  {
   "cell_type": "code",
   "execution_count": 28,
   "metadata": {},
   "outputs": [],
   "source": [
    "# Query the database with inner join and read into a DataFrame\n",
    "query = '''\n",
    "SELECT cs.country, cs.region, cs.population, cs.gdp, co.summer_total, co.winter_total, co.total_participation, co.total_won\n",
    "FROM country_socioeconomic AS cs\n",
    "INNER JOIN country_olympics AS co\n",
    "ON cs.country = co.country\n",
    "'''\n",
    "df = pd.read_sql(query, conn)"
   ]
  },
  {
   "cell_type": "code",
   "execution_count": 29,
   "metadata": {},
   "outputs": [],
   "source": [
    "# Close the database connection\n",
    "conn.close()"
   ]
  },
  {
   "cell_type": "code",
   "execution_count": 30,
   "metadata": {},
   "outputs": [
    {
     "data": {
      "text/html": [
       "<div>\n",
       "<style scoped>\n",
       "    .dataframe tbody tr th:only-of-type {\n",
       "        vertical-align: middle;\n",
       "    }\n",
       "\n",
       "    .dataframe tbody tr th {\n",
       "        vertical-align: top;\n",
       "    }\n",
       "\n",
       "    .dataframe thead th {\n",
       "        text-align: right;\n",
       "    }\n",
       "</style>\n",
       "<table border=\"1\" class=\"dataframe\">\n",
       "  <thead>\n",
       "    <tr style=\"text-align: right;\">\n",
       "      <th></th>\n",
       "      <th>country</th>\n",
       "      <th>region</th>\n",
       "      <th>population</th>\n",
       "      <th>gdp</th>\n",
       "      <th>summer_total</th>\n",
       "      <th>winter_total</th>\n",
       "      <th>total_participation</th>\n",
       "      <th>total_won</th>\n",
       "    </tr>\n",
       "  </thead>\n",
       "  <tbody>\n",
       "    <tr>\n",
       "      <th>0</th>\n",
       "      <td>Afghanistan                                   ...</td>\n",
       "      <td>SouthernAsia                                  ...</td>\n",
       "      <td>35530</td>\n",
       "      <td>20270</td>\n",
       "      <td>2</td>\n",
       "      <td>0</td>\n",
       "      <td>15</td>\n",
       "      <td>2</td>\n",
       "    </tr>\n",
       "    <tr>\n",
       "      <th>1</th>\n",
       "      <td>Algeria                                       ...</td>\n",
       "      <td>NorthernAfrica                                ...</td>\n",
       "      <td>41318</td>\n",
       "      <td>164779</td>\n",
       "      <td>17</td>\n",
       "      <td>0</td>\n",
       "      <td>17</td>\n",
       "      <td>17</td>\n",
       "    </tr>\n",
       "    <tr>\n",
       "      <th>2</th>\n",
       "      <td>Argentina                                     ...</td>\n",
       "      <td>SouthAmerica                                  ...</td>\n",
       "      <td>44271</td>\n",
       "      <td>632343</td>\n",
       "      <td>77</td>\n",
       "      <td>0</td>\n",
       "      <td>45</td>\n",
       "      <td>77</td>\n",
       "    </tr>\n",
       "    <tr>\n",
       "      <th>3</th>\n",
       "      <td>Armenia                                       ...</td>\n",
       "      <td>WesternAsia                                   ...</td>\n",
       "      <td>2930</td>\n",
       "      <td>10529</td>\n",
       "      <td>18</td>\n",
       "      <td>0</td>\n",
       "      <td>15</td>\n",
       "      <td>18</td>\n",
       "    </tr>\n",
       "    <tr>\n",
       "      <th>4</th>\n",
       "      <td>Australia                                     ...</td>\n",
       "      <td>Oceania                                       ...</td>\n",
       "      <td>24451</td>\n",
       "      <td>1230859</td>\n",
       "      <td>547</td>\n",
       "      <td>19</td>\n",
       "      <td>47</td>\n",
       "      <td>566</td>\n",
       "    </tr>\n",
       "  </tbody>\n",
       "</table>\n",
       "</div>"
      ],
      "text/plain": [
       "                                             country  \\\n",
       "0  Afghanistan                                   ...   \n",
       "1  Algeria                                       ...   \n",
       "2  Argentina                                     ...   \n",
       "3  Armenia                                       ...   \n",
       "4  Australia                                     ...   \n",
       "\n",
       "                                              region  population      gdp  \\\n",
       "0  SouthernAsia                                  ...       35530    20270   \n",
       "1  NorthernAfrica                                ...       41318   164779   \n",
       "2  SouthAmerica                                  ...       44271   632343   \n",
       "3  WesternAsia                                   ...        2930    10529   \n",
       "4  Oceania                                       ...       24451  1230859   \n",
       "\n",
       "   summer_total  winter_total  total_participation  total_won  \n",
       "0             2             0                   15          2  \n",
       "1            17             0                   17         17  \n",
       "2            77             0                   45         77  \n",
       "3            18             0                   15         18  \n",
       "4           547            19                   47        566  "
      ]
     },
     "execution_count": 30,
     "metadata": {},
     "output_type": "execute_result"
    }
   ],
   "source": [
    "# Explore and analyze the data\n",
    "df.head()"
   ]
  },
  {
   "cell_type": "code",
   "execution_count": 31,
   "metadata": {},
   "outputs": [
    {
     "data": {
      "text/plain": [
       "0.23807020111614915"
      ]
     },
     "execution_count": 31,
     "metadata": {},
     "output_type": "execute_result"
    }
   ],
   "source": [
    "# Correlation coefficient between population and total medals won\n",
    "correlation = df['population'].corr(df['total_won'])\n",
    "correlation"
   ]
  },
  {
   "cell_type": "code",
   "execution_count": 32,
   "metadata": {},
   "outputs": [
    {
     "data": {
      "image/png": "[encoded data removed]",
      "text/plain": [
       "<Figure size 432x288 with 1 Axes>"
      ]
     },
     "metadata": {
      "needs_background": "light"
     },
     "output_type": "display_data"
    }
   ],
   "source": [
    "# Scatter plot between population and total medals won\n",
    "plt.scatter(df['population'], df['total_won'])\n",
    "plt.xlabel('population')\n",
    "plt.ylabel('total_won')\n",
    "plt.title('Correlation Analysis')\n",
    "plt.show()"
   ]
  },
  {
   "cell_type": "code",
   "execution_count": 33,
   "metadata": {},
   "outputs": [
    {
     "data": {
      "text/plain": [
       "0.5473158338364165"
      ]
     },
     "execution_count": 33,
     "metadata": {},
     "output_type": "execute_result"
    }
   ],
   "source": [
    "# Correlation coefficient between population and gdp\n",
    "correlation = df['population'].corr(df['gdp'])\n",
    "correlation"
   ]
  },
  {
   "cell_type": "code",
   "execution_count": 34,
   "metadata": {},
   "outputs": [
    {
     "data": {
      "image/png": "[encoded data removed]",
      "text/plain": [
       "<Figure size 432x288 with 1 Axes>"
      ]
     },
     "metadata": {
      "needs_background": "light"
     },
     "output_type": "display_data"
    }
   ],
   "source": [
    "# Scatter plot between population and gdp\n",
    "plt.scatter(df['population'], df['gdp'])\n",
    "plt.xlabel('population')\n",
    "plt.ylabel('gdp')\n",
    "plt.title('Correlation Analysis')\n",
    "plt.show()"
   ]
  },
  {
   "cell_type": "code",
   "execution_count": 36,
   "metadata": {},
   "outputs": [
    {
     "data": {
      "text/plain": [
       "0.8490150662098183"
      ]
     },
     "execution_count": 36,
     "metadata": {},
     "output_type": "execute_result"
    }
   ],
   "source": [
    "# Correlation coefficient between gdp and total medals won\n",
    "correlation = df['gdp'].corr(df['total_won'])\n",
    "correlation"
   ]
  },
  {
   "cell_type": "code",
   "execution_count": 37,
   "metadata": {},
   "outputs": [
    {
     "data": {
      "image/png": "[encoded data removed]",
      "text/plain": [
       "<Figure size 432x288 with 1 Axes>"
      ]
     },
     "metadata": {
      "needs_background": "light"
     },
     "output_type": "display_data"
    }
   ],
   "source": [
    "# Scatter plot between gdp and total medals won\n",
    "plt.scatter(df['gdp'], df['total_won'])\n",
    "plt.xlabel('gdp')\n",
    "plt.ylabel('total_won')\n",
    "plt.title('Correlation Analysis')\n",
    "plt.show()"
   ]
  },
  {
   "cell_type": "code",
   "execution_count": 38,
   "metadata": {},
   "outputs": [
    {
     "data": {
      "image/png": "[encoded data removed]",
      "text/plain": [
       "<Figure size 432x288 with 2 Axes>"
      ]
     },
     "metadata": {
      "needs_background": "light"
     },
     "output_type": "display_data"
    }
   ],
   "source": [
    "# Calculate the correlation matrix\n",
    "correlation_matrix = df.corr()\n",
    "\n",
    "# Visualize the correlation matrix as a heatmap\n",
    "plt.imshow(correlation_matrix, cmap='coolwarm', interpolation='nearest')\n",
    "plt.colorbar()\n",
    "plt.xticks(range(len(correlation_matrix.columns)), correlation_matrix.columns, rotation='vertical')\n",
    "plt.yticks(range(len(correlation_matrix.columns)), correlation_matrix.columns)\n",
    "plt.title('Correlation Matrix')\n",
    "plt.show()"
   ]
  }
 ],
 "metadata": {
  "kernelspec": {
   "display_name": "PythonData",
   "language": "python",
   "name": "python3"
  },
  "language_info": {
   "codemirror_mode": {
    "name": "ipython",
    "version": 3
   },
   "file_extension": ".py",
   "mimetype": "text/x-python",
   "name": "python",
   "nbconvert_exporter": "python",
   "pygments_lexer": "ipython3",
   "version": "3.7.13"
  },
  "orig_nbformat": 4
 },
 "nbformat": 4,
 "nbformat_minor": 2
}
